{
 "cells": [
  {
   "cell_type": "code",
   "execution_count": 8,
   "id": "70177b78-01d8-4c11-b84f-2de2382e7f31",
   "metadata": {},
   "outputs": [],
   "source": [
    "import pandas as pd\n",
    "import scipy.stats as stats\n",
    "import statsmodels.api as sm\n",
    "from statsmodels.formula.api import ols"
   ]
  },
  {
   "cell_type": "code",
   "execution_count": 9,
   "id": "72b290af-9142-4a00-a4e9-78948ebe8baa",
   "metadata": {},
   "outputs": [],
   "source": [
    "df=pd.read_csv('loan-dataset-1-clean.csv')"
   ]
  },
  {
   "cell_type": "code",
   "execution_count": 10,
   "id": "677cbed2-21b6-4001-b5a8-2818aab02596",
   "metadata": {},
   "outputs": [],
   "source": [
    "df['is_default'] = df['is_default'].astype(int)"
   ]
  },
  {
   "cell_type": "code",
   "execution_count": 11,
   "id": "2222d814-e0be-4848-a278-3db092710b88",
   "metadata": {},
   "outputs": [
    {
     "name": "stdout",
     "output_type": "stream",
     "text": [
      "                     sum_sq       df           F         PR(>F)\n",
      "C(loan_channel)   29.288474      4.0  223.712128  6.798223e-187\n",
      "Residual         496.122725  15158.0         NaN            NaN\n"
     ]
    }
   ],
   "source": [
    "formula = 'is_default ~ C(loan_channel)'\n",
    "model = ols(formula, data=df).fit()\n",
    "aov_table = sm.stats.anova_lm(model, typ=2)\n",
    "print(aov_table)"
   ]
  },
  {
   "cell_type": "code",
   "execution_count": 12,
   "id": "23b5e506-ce54-46c2-956d-21180984a563",
   "metadata": {},
   "outputs": [
    {
     "name": "stdout",
     "output_type": "stream",
     "text": [
      "        Multiple Comparison of Means - Tukey HSD, FWER=0.05        \n",
      "===================================================================\n",
      "    group1         group2     meandiff p-adj   lower  upper  reject\n",
      "-------------------------------------------------------------------\n",
      "     AFFILIATE          AGENT   -0.004 0.9132 -0.0166 0.0087  False\n",
      "     AFFILIATE DIRECT_SELLING  -0.0003    1.0 -0.0131 0.0125  False\n",
      "     AFFILIATE     MOBILE_APP  -0.0042 0.8984  -0.017 0.0086  False\n",
      "     AFFILIATE            WEB   0.1049   -0.0  0.0925 0.1174   True\n",
      "         AGENT DIRECT_SELLING   0.0037 0.9359 -0.0091 0.0165  False\n",
      "         AGENT     MOBILE_APP  -0.0002    1.0  -0.013 0.0125  False\n",
      "         AGENT            WEB   0.1089   -0.0  0.0964 0.1213   True\n",
      "DIRECT_SELLING     MOBILE_APP  -0.0039 0.9234 -0.0168  0.009  False\n",
      "DIRECT_SELLING            WEB   0.1052   -0.0  0.0926 0.1178   True\n",
      "    MOBILE_APP            WEB   0.1091   -0.0  0.0965 0.1217   True\n",
      "-------------------------------------------------------------------\n"
     ]
    }
   ],
   "source": [
    "mc = sm.stats.multicomp.MultiComparison(df['is_default'], df['loan_channel'])\n",
    "mc_results = mc.tukeyhsd()\n",
    "print(mc_results.summary())"
   ]
  },
  {
   "cell_type": "code",
   "execution_count": null,
   "id": "d8ee6fbf-2af1-457c-9b29-4b053a40e964",
   "metadata": {},
   "outputs": [],
   "source": []
  }
 ],
 "metadata": {
  "kernelspec": {
   "display_name": "Python 3 (ipykernel)",
   "language": "python",
   "name": "python3"
  },
  "language_info": {
   "codemirror_mode": {
    "name": "ipython",
    "version": 3
   },
   "file_extension": ".py",
   "mimetype": "text/x-python",
   "name": "python",
   "nbconvert_exporter": "python",
   "pygments_lexer": "ipython3",
   "version": "3.8.10"
  }
 },
 "nbformat": 4,
 "nbformat_minor": 5
}
